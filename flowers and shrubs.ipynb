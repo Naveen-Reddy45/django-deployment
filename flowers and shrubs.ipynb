{
 "cells": [
  {
   "cell_type": "code",
   "execution_count": 26,
   "metadata": {},
   "outputs": [
    {
     "name": "stdout",
     "output_type": "stream",
     "text": [
      "['Bellflower', 'China Pink', 'Daffodil', 'Evening Primrose', 'French Marigold', 'Iris', \"Queen Anne's Lace\", 'Red Hot Poker', 'Snapdragon', 'Sunflower', 'Tiger Lily']\n",
      "['Andromeda', 'Hydrangea', 'Japanese Camellia', 'Lavender', 'Lilac', 'Magnolia', 'Peony', 'Witch Hazel']\n"
     ]
    }
   ],
   "source": [
    "data = [\n",
    "    \"Andromeda - Shrub\",\n",
    "    \"Bellflower - Flower\",\n",
    "    \"China Pink - Flower\",\n",
    "    \"Daffodil - Flower\",\n",
    "    \"Evening Primrose - Flower\",\n",
    "    \"French Marigold - Flower\",\n",
    "    \"Hydrangea - Shrub\",\n",
    "    \"Iris - Flower\",\n",
    "    \"Japanese Camellia - Shrub\",\n",
    "    \"Lavender - Shrub\",\n",
    "    \"Lilac - Shrub\",\n",
    "    \"Magnolia - Shrub\",\n",
    "    \"Peony - Shrub\",\n",
    "    \"Queen Anne's Lace - Flower\",\n",
    "    \"Red Hot Poker - Flower\",\n",
    "    \"Snapdragon - Flower\",\n",
    "    \"Sunflower - Flower\",\n",
    "    \"Tiger Lily - Flower\",\n",
    "    \"Witch Hazel - Shrub\",\n",
    "]\n",
    "\n",
    "f_flowers = []\n",
    "s_shrubs = []\n",
    "for item in data:\n",
    "    if 'Flower' in item:\n",
    "        b=item.split('-')[0]\n",
    "        c=item.rstrip()\n",
    "        f_flowers.append(c)\n",
    "    elif 'Shrub' in item:\n",
    "        b=item.split('-')[0]\n",
    "        c=item.rstrip()\n",
    "        s_shrubs.append(c)\n",
    "    else:\n",
    "        pass\n",
    "flowers = []\n",
    "shrubs =[]\n",
    "\n",
    "for flower in f_flowers:\n",
    "    flowers.append(flower.rstrip())\n",
    "for shrub in s_shrubs:\n",
    "    shrubs.append(shrub.rstrip())    \n",
    "        \n",
    "print(flowers)\n",
    "print(shrubs)"
   ]
  },
  {
   "cell_type": "code",
   "execution_count": 22,
   "metadata": {},
   "outputs": [],
   "source": [
    "a=['monkey   ','hattrick ']"
   ]
  },
  {
   "cell_type": "code",
   "execution_count": 23,
   "metadata": {},
   "outputs": [
    {
     "data": {
      "text/plain": [
       "'monkey'"
      ]
     },
     "execution_count": 23,
     "metadata": {},
     "output_type": "execute_result"
    }
   ],
   "source": [
    "a[0].rstrip()"
   ]
  },
  {
   "cell_type": "code",
   "execution_count": 28,
   "metadata": {},
   "outputs": [
    {
     "name": "stdout",
     "output_type": "stream",
     "text": [
      "['Bellflower', 'China Pink', 'Daffodil', 'Evening Primrose', 'French Marigold', 'Iris', \"Queen Anne's Lace\", 'Red Hot Poker', 'Snapdragon', 'Sunflower', 'Tiger Lily']\n",
      "['Andromeda', 'Hydrangea', 'Japanese Camellia', 'Lavender', 'Lilac', 'Magnolia', 'Peony', 'Witch Hazel']\n"
     ]
    }
   ],
   "source": [
    "data = [\n",
    "    \"Andromeda - Shrub\",\n",
    "    \"Bellflower - Flower\",\n",
    "    \"China Pink - Flower\",\n",
    "    \"Daffodil - Flower\",\n",
    "    \"Evening Primrose - Flower\",\n",
    "    \"French Marigold - Flower\",\n",
    "    \"Hydrangea - Shrub\",\n",
    "    \"Iris - Flower\",\n",
    "    \"Japanese Camellia - Shrub\",\n",
    "    \"Lavender - Shrub\",\n",
    "    \"Lilac - Shrub\",\n",
    "    \"Magnolia - Shrub\",\n",
    "    \"Peony - Shrub\",\n",
    "    \"Queen Anne's Lace - Flower\",\n",
    "    \"Red Hot Poker - Flower\",\n",
    "    \"Snapdragon - Flower\",\n",
    "    \"Sunflower - Flower\",\n",
    "    \"Tiger Lily - Flower\",\n",
    "    \"Witch Hazel - Shrub\",\n",
    "]\n",
    "\n",
    "flowers = []\n",
    "shrubs = []\n",
    "for item in data:\n",
    "    if 'Flower' in item:\n",
    "        b=item.split('-')[0]\n",
    "        c=b.rstrip()\n",
    "        flowers.append(c)\n",
    "    elif 'Shrub' in item:\n",
    "        b=item.split('-')[0]\n",
    "        c=b.rstrip()\n",
    "        shrubs.append(c)\n",
    "    else:\n",
    "        pass\n",
    " \n",
    "print(flowers)\n",
    "print(shrubs)\n",
    "    "
   ]
  },
  {
   "cell_type": "code",
   "execution_count": null,
   "metadata": {},
   "outputs": [],
   "source": []
  }
 ],
 "metadata": {
  "kernelspec": {
   "display_name": "Python 3",
   "language": "python",
   "name": "python3"
  },
  "language_info": {
   "codemirror_mode": {
    "name": "ipython",
    "version": 3
   },
   "file_extension": ".py",
   "mimetype": "text/x-python",
   "name": "python",
   "nbconvert_exporter": "python",
   "pygments_lexer": "ipython3",
   "version": "3.8.5"
  }
 },
 "nbformat": 4,
 "nbformat_minor": 4
}
