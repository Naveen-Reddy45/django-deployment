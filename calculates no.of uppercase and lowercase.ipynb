{
 "cells": [
  {
   "cell_type": "code",
   "execution_count": 2,
   "metadata": {},
   "outputs": [],
   "source": [
    "a='Banglore is a Good City'"
   ]
  },
  {
   "cell_type": "code",
   "execution_count": 52,
   "metadata": {},
   "outputs": [
    {
     "data": {
      "text/plain": [
       "'Banglore is a Good City'"
      ]
     },
     "execution_count": 52,
     "metadata": {},
     "output_type": "execute_result"
    }
   ],
   "source": [
    "a"
   ]
  },
  {
   "cell_type": "code",
   "execution_count": 13,
   "metadata": {},
   "outputs": [],
   "source": [
    "def up_loww(s):    \n",
    "    upper_case=[]\n",
    "    lower_case=[]\n",
    "    for x in s:\n",
    "        if x.isupper():\n",
    "            upper_case+=x\n",
    "        elif x.islower():\n",
    "            lower_case+=x\n",
    "        else:\n",
    "            pass\n",
    "    a=len(upper_case)\n",
    "    b=len(lower_case)\n",
    "\n",
    "    print('No.of uppercase characters:{}'.format(a))\n",
    "    print('No.of lowercase characters:{}'.format(b))\n",
    "        \n",
    "    "
   ]
  },
  {
   "cell_type": "code",
   "execution_count": 4,
   "metadata": {},
   "outputs": [],
   "source": [
    "def up_low(a):\n",
    "    g=[s for s in a if s.isupper()]\n",
    "    h=[s for s in a if s.islower()]\n",
    "    c=len(g)\n",
    "    d=len(h)\n",
    "    print('No.of Upper case characters:{} \\nNo.of Lower case characters:{}'.format(c,d))\n",
    "    "
   ]
  },
  {
   "cell_type": "code",
   "execution_count": 14,
   "metadata": {},
   "outputs": [
    {
     "name": "stdout",
     "output_type": "stream",
     "text": [
      "No.of uppercase characters:3\n",
      "No.of lowercase characters:16\n"
     ]
    }
   ],
   "source": [
    "up_loww(a)"
   ]
  },
  {
   "cell_type": "code",
   "execution_count": 10,
   "metadata": {},
   "outputs": [
    {
     "name": "stdout",
     "output_type": "stream",
     "text": [
      "No.of Upper case characters:3 \n",
      "No.of Lower case characters:16\n"
     ]
    }
   ],
   "source": [
    "up_low(a)"
   ]
  },
  {
   "cell_type": "code",
   "execution_count": null,
   "metadata": {},
   "outputs": [],
   "source": []
  }
 ],
 "metadata": {
  "kernelspec": {
   "display_name": "Python 3",
   "language": "python",
   "name": "python3"
  },
  "language_info": {
   "codemirror_mode": {
    "name": "ipython",
    "version": 3
   },
   "file_extension": ".py",
   "mimetype": "text/x-python",
   "name": "python",
   "nbconvert_exporter": "python",
   "pygments_lexer": "ipython3",
   "version": "3.8.5"
  }
 },
 "nbformat": 4,
 "nbformat_minor": 4
}
