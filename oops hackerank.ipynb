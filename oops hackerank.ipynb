{
 "cells": [
  {
   "cell_type": "code",
   "execution_count": 162,
   "metadata": {},
   "outputs": [],
   "source": [
    "class comp:\n",
    "    def __init__(self,real,img):\n",
    "        self.real=real\n",
    "        self.img=img\n",
    "        \n",
    "    def add(self,n):\n",
    "        r=self.real+n.real\n",
    "        i=self.img+n.img\n",
    "        d=complex(r,i)\n",
    "        d=str(d)\n",
    "        d=d.replace('\\(','')\n",
    "        d=d.replace('\\)','')\n",
    "        return f'Sum of the two Complex numbers :{d}'\n",
    "    \n",
    "    def sub(self,n):\n",
    "        r=self.real-n.real\n",
    "        i=self.img-n.img\n",
    "        \n",
    "        d=complex(r,i)\n",
    "        return f'Substraction of the two Complex numbers :{d}'"
   ]
  },
  {
   "cell_type": "code",
   "execution_count": 163,
   "metadata": {},
   "outputs": [],
   "source": [
    "p=comp(1,2)"
   ]
  },
  {
   "cell_type": "code",
   "execution_count": 164,
   "metadata": {},
   "outputs": [],
   "source": [
    "p1=comp(3,4)"
   ]
  },
  {
   "cell_type": "code",
   "execution_count": 165,
   "metadata": {},
   "outputs": [
    {
     "data": {
      "text/plain": [
       "'Sum of the two Complex numbers :(4+6j)'"
      ]
     },
     "execution_count": 165,
     "metadata": {},
     "output_type": "execute_result"
    }
   ],
   "source": [
    "p.add(p1)"
   ]
  },
  {
   "cell_type": "code",
   "execution_count": 201,
   "metadata": {},
   "outputs": [],
   "source": [
    "a=3\n",
    "b=3"
   ]
  },
  {
   "cell_type": "code",
   "execution_count": 202,
   "metadata": {},
   "outputs": [],
   "source": [
    "c=complex(a,b)"
   ]
  },
  {
   "cell_type": "code",
   "execution_count": 203,
   "metadata": {},
   "outputs": [
    {
     "data": {
      "text/plain": [
       "complex"
      ]
     },
     "execution_count": 203,
     "metadata": {},
     "output_type": "execute_result"
    }
   ],
   "source": [
    "type(c)"
   ]
  },
  {
   "cell_type": "code",
   "execution_count": 204,
   "metadata": {},
   "outputs": [],
   "source": [
    "d=str(c)"
   ]
  },
  {
   "cell_type": "code",
   "execution_count": 205,
   "metadata": {},
   "outputs": [
    {
     "data": {
      "text/plain": [
       "6"
      ]
     },
     "execution_count": 205,
     "metadata": {},
     "output_type": "execute_result"
    }
   ],
   "source": [
    "len(d)"
   ]
  },
  {
   "cell_type": "code",
   "execution_count": 206,
   "metadata": {},
   "outputs": [
    {
     "ename": "TypeError",
     "evalue": "'int' object is not iterable",
     "output_type": "error",
     "traceback": [
      "\u001b[1;31m---------------------------------------------------------------------------\u001b[0m",
      "\u001b[1;31mTypeError\u001b[0m                                 Traceback (most recent call last)",
      "\u001b[1;32m<ipython-input-206-8d4c539d4fd2>\u001b[0m in \u001b[0;36m<module>\u001b[1;34m\u001b[0m\n\u001b[1;32m----> 1\u001b[1;33m \u001b[0msum\u001b[0m\u001b[1;33m(\u001b[0m\u001b[0ma\u001b[0m\u001b[1;33m,\u001b[0m\u001b[0mb\u001b[0m\u001b[1;33m)\u001b[0m\u001b[1;33m\u001b[0m\u001b[1;33m\u001b[0m\u001b[0m\n\u001b[0m",
      "\u001b[1;31mTypeError\u001b[0m: 'int' object is not iterable"
     ]
    }
   ],
   "source": [
    "sum(a,b)"
   ]
  },
  {
   "cell_type": "code",
   "execution_count": 183,
   "metadata": {},
   "outputs": [],
   "source": [
    "d=d.replace(')','')"
   ]
  },
  {
   "cell_type": "code",
   "execution_count": 166,
   "metadata": {},
   "outputs": [
    {
     "name": "stdout",
     "output_type": "stream",
     "text": [
      "5\n",
      "4\n",
      "6\n"
     ]
    }
   ],
   "source": [
    "#!/bin/python3\n",
    "\n",
    "import math\n",
    "import os\n",
    "import random\n",
    "import re\n",
    "import sys\n",
    "\n",
    "\n",
    "\n",
    "# Write your code here\n",
    "class rectangle:\n",
    "    def __init__(self):\n",
    "        self\n",
    "    \n",
    "    def display(self):\n",
    "        return 'This is a Rectangle'\n",
    "    \n",
    "    def area(self,l,b):\n",
    "        self.l=l\n",
    "        self.b=b\n",
    "        return f'Area of Rectangle is {(self.l*self.b)/2}'\n",
    "    \n",
    "class square:\n",
    "    def __init__(self):\n",
    "        self\n",
    "        \n",
    "    def display(self):\n",
    "        return 'This is a Square'  \n",
    "    \n",
    "    def area(self,s):\n",
    "        self.s=s\n",
    "        return f'Area of square is {self.s*self.s}'\n",
    "\n",
    "\n",
    "if __name__ == '__main__':\n",
    "    \n",
    "    l = int(input())\n",
    "    b = int(input())\n",
    "    s = int(input())\n",
    "\n",
    "    obj1 = rectangle()\n",
    "    obj1.display()\n",
    "    obj1.area(l,b)\n",
    "\n",
    "    obj2 = square()\n",
    "    obj2.display()\n",
    "    obj2.area(s)\n"
   ]
  },
  {
   "cell_type": "code",
   "execution_count": 167,
   "metadata": {},
   "outputs": [],
   "source": [
    "obj1 = rectangle()"
   ]
  },
  {
   "cell_type": "code",
   "execution_count": 168,
   "metadata": {},
   "outputs": [
    {
     "data": {
      "text/plain": [
       "'Area of Rectangle is 10.0'"
      ]
     },
     "execution_count": 168,
     "metadata": {},
     "output_type": "execute_result"
    }
   ],
   "source": [
    "obj1.area(l,b)"
   ]
  },
  {
   "cell_type": "code",
   "execution_count": 169,
   "metadata": {},
   "outputs": [
    {
     "name": "stdout",
     "output_type": "stream",
     "text": [
      "200\n",
      "10\n",
      "20\n"
     ]
    },
    {
     "ename": "TypeError",
     "evalue": "__init__() takes 2 positional arguments but 3 were given",
     "output_type": "error",
     "traceback": [
      "\u001b[1;31m---------------------------------------------------------------------------\u001b[0m",
      "\u001b[1;31mTypeError\u001b[0m                                 Traceback (most recent call last)",
      "\u001b[1;32m<ipython-input-169-08f5d6dd44e5>\u001b[0m in \u001b[0;36m<module>\u001b[1;34m\u001b[0m\n\u001b[0;32m     45\u001b[0m \u001b[1;33m\u001b[0m\u001b[0m\n\u001b[0;32m     46\u001b[0m \u001b[1;33m\u001b[0m\u001b[0m\n\u001b[1;32m---> 47\u001b[1;33m     \u001b[0mobj2\u001b[0m \u001b[1;33m=\u001b[0m \u001b[0mson\u001b[0m\u001b[1;33m(\u001b[0m\u001b[0mt\u001b[0m\u001b[1;33m,\u001b[0m\u001b[0msp\u001b[0m\u001b[1;33m)\u001b[0m\u001b[1;33m\u001b[0m\u001b[1;33m\u001b[0m\u001b[0m\n\u001b[0m\u001b[0;32m     48\u001b[0m     \u001b[0mobj2\u001b[0m\u001b[1;33m.\u001b[0m\u001b[0mson_display\u001b[0m\u001b[1;33m(\u001b[0m\u001b[1;33m)\u001b[0m\u001b[1;33m\u001b[0m\u001b[1;33m\u001b[0m\u001b[0m\n\u001b[0;32m     49\u001b[0m     \u001b[0mobj2\u001b[0m\u001b[1;33m.\u001b[0m\u001b[0mdisplay\u001b[0m\u001b[1;33m(\u001b[0m\u001b[1;33m)\u001b[0m\u001b[1;33m\u001b[0m\u001b[1;33m\u001b[0m\u001b[0m\n",
      "\u001b[1;31mTypeError\u001b[0m: __init__() takes 2 positional arguments but 3 were given"
     ]
    }
   ],
   "source": [
    "#!/bin/python3\n",
    "\n",
    "import math\n",
    "import os\n",
    "import random\n",
    "import re\n",
    "import sys\n",
    "\n",
    "class parent:\n",
    "  def __init__(self,total_asset):\n",
    "    self.total_asset = total_asset\n",
    "\n",
    "  def display(self):\n",
    "    print(\"Total Asset Worth is \"+str(self.total_asset)+\" Million.\")\n",
    "    print(\"Share of Parents is \"+str(round(self.total_asset/2,2))+\" Million.\")\n",
    "\n",
    "# It is expected to create two child classes 'son' & 'daughter' for the above class 'parent'\n",
    "#\n",
    "#Write your code here\n",
    "class son(parent):\n",
    "    def __init__(self,total_asset,pt):\n",
    "        parent.__init__(self,total_asset)\n",
    "        self.pt=pt\n",
    "        \n",
    "    def son_display(self):\n",
    "        print(f'Share of son is {round((self.total_asset*self.pt)/2,2)} Million')\n",
    "\n",
    "class daughter(parent):\n",
    "    def __init__(self,total_asset,pt):\n",
    "        parent.__init__(self,total_asset)\n",
    "        self.pt=pt\n",
    "        \n",
    "    def daughter_display(self):\n",
    "        print(f'Share of son is {round((self.total_asset*self.pt)/2,2)} Million')        \n",
    "    \n",
    "\n",
    "if __name__ == '__main__':\n",
    "    \n",
    "    t = int(input())\n",
    "    sp = int(input())\n",
    "    dp = int(input())\n",
    "\n",
    "\n",
    "    obj1 = parent(t)\n",
    "    \n",
    "\n",
    "    obj2 = son(t,sp)\n",
    "    obj2.son_display()\n",
    "    obj2.display()\n",
    "\n",
    "\n",
    "    obj3 = daughter(t,dp)\n",
    "    obj3.daughter_display()\n",
    "    obj3.display()\n",
    "    \n",
    "    print(isinstance(obj2,parent))\n",
    "    print(isinstance(obj3,parent))\n",
    "\n",
    "    print(isinstance(obj3,son))\n",
    "    print(isinstance(obj2,daughter))"
   ]
  },
  {
   "cell_type": "code",
   "execution_count": null,
   "metadata": {},
   "outputs": [],
   "source": []
  }
 ],
 "metadata": {
  "kernelspec": {
   "display_name": "Python 3",
   "language": "python",
   "name": "python3"
  },
  "language_info": {
   "codemirror_mode": {
    "name": "ipython",
    "version": 3
   },
   "file_extension": ".py",
   "mimetype": "text/x-python",
   "name": "python",
   "nbconvert_exporter": "python",
   "pygments_lexer": "ipython3",
   "version": "3.8.5"
  }
 },
 "nbformat": 4,
 "nbformat_minor": 4
}
