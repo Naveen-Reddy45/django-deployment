{
 "cells": [
  {
   "cell_type": "code",
   "execution_count": 20,
   "metadata": {},
   "outputs": [],
   "source": [
    "\n",
    "def sum_eo(n:int,t:str) -> int:\n",
    "    \"\"\" this function returns `int` \n",
    "        sum of even or odd \n",
    "        upto range n\n",
    "    \n",
    "    \"\"\"\n",
    "    if t=='e':\n",
    "        add=0\n",
    "        for i in range(1,n):\n",
    "            if i%2==0:\n",
    "                add=add+i\n",
    "    elif t=='o':\n",
    "        add=0\n",
    "        for i in range(1,n):\n",
    "            if i%2!=0:\n",
    "                add=add+i    \n",
    "    else:\n",
    "        add = -1\n",
    "    return add"
   ]
  },
  {
   "cell_type": "code",
   "execution_count": 13,
   "metadata": {},
   "outputs": [
    {
     "data": {
      "text/plain": [
       "20"
      ]
     },
     "execution_count": 13,
     "metadata": {},
     "output_type": "execute_result"
    }
   ],
   "source": [
    "sum_eo(10,'e')"
   ]
  },
  {
   "cell_type": "code",
   "execution_count": null,
   "metadata": {},
   "outputs": [],
   "source": []
  }
 ],
 "metadata": {
  "kernelspec": {
   "display_name": "Python 3",
   "language": "python",
   "name": "python3"
  },
  "language_info": {
   "codemirror_mode": {
    "name": "ipython",
    "version": 3
   },
   "file_extension": ".py",
   "mimetype": "text/x-python",
   "name": "python",
   "nbconvert_exporter": "python",
   "pygments_lexer": "ipython3",
   "version": "3.8.5"
  }
 },
 "nbformat": 4,
 "nbformat_minor": 4
}
