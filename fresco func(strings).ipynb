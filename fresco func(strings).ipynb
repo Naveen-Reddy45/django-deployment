{
 "cells": [
  {
   "cell_type": "code",
   "execution_count": 64,
   "metadata": {},
   "outputs": [],
   "source": [
    "def stringmethod(para, special1, special2, list1, strfind):\n",
    "    # Write your code here\n",
    "    for i in special1:\n",
    "        para=para.replace(i,\"\")\n",
    "    word1=para    \n",
    "    var=[]\n",
    "    for i,j in enumerate(word1):\n",
    "        if i==70:\n",
    "            break\n",
    "        var.append(j)\n",
    "    word2=''.join(var)\n",
    "    v=[]\n",
    "    for i in word2.split():\n",
    "        v.append(i[::-1])\n",
    "    rword2=' '.join(v[::-1])\n",
    "    print(rword2)\n",
    "    \n",
    "    a=rword2.replace(\" \",\"\")\n",
    "    c=[]\n",
    "    for i in a:\n",
    "        c.append(i)\n",
    "        c.append(',')\n",
    "    c.pop()    \n",
    "    print(''.join(c))\n",
    "    \n",
    "    for i in list1:\n",
    "        if i in para:\n",
    "            count+=1\n",
    "    if len(list1)==count:\n",
    "        print('Every thing in {} were present'.format(list1))\n",
    "    else:\n",
    "        print('Every thing in {} were not present'.format(list1))\n",
    "        \n",
    "    q=word1.split()\n",
    "    d=[]\n",
    "    for i,j in enumerate(q):\n",
    "        if i==20:\n",
    "            break\n",
    "        d.append(j)         \n",
    "    print(d)\n",
    "    \n",
    "    freq=[]\n",
    "    li=word1.split()\n",
    "    unique=set(li)\n",
    "    for i in unique:\n",
    "        if li.count(i)<3:\n",
    "            freq.append(i)\n",
    "    \n",
    "    print(freq[-20:])\n",
    "    \n",
    "    print(word1.rfind(strfind))\n",
    "        "
   ]
  }
 ],
 "metadata": {
  "kernelspec": {
   "display_name": "Python 3",
   "language": "python",
   "name": "python3"
  },
  "language_info": {
   "codemirror_mode": {
    "name": "ipython",
    "version": 3
   },
   "file_extension": ".py",
   "mimetype": "text/x-python",
   "name": "python",
   "nbconvert_exporter": "python",
   "pygments_lexer": "ipython3",
   "version": "3.8.5"
  }
 },
 "nbformat": 4,
 "nbformat_minor": 4
}
