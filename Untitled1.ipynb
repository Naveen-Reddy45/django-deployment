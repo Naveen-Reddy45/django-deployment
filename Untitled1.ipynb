{
 "cells": [
  {
   "cell_type": "code",
   "execution_count": 1,
   "metadata": {},
   "outputs": [],
   "source": [
    "para='Lorem ipsum dolor sit amet, consectetur adipiscing elit. Aliquam sem odio, varius nec aliquam nec, tempor commodo ante. Pellentesque sit amet augue vel ante dictum placerat ut ut sapien. Proin maximus eu diam in posuere. Suspendisse in lectus in lectus finibus auctor. Nam sed porttitor arcu. Vestibulum augue odio, posuere quis libero sed, pharetra sollicitudin est. Donec sit amet nunc eu nisi malesuada elementum id ut purus.Nunc sit amet % massa rhoncus, venenatis eros sit amet, ornare augue. Nunc a mi sed est tincidunt facilisis at nec diam. Donec nec ex lorem. Morbi vitae diam tincidunt, dignissim arcu ut, facilisis nisi. Maecenas non felis #ullamcorper, viverra augue id, consequat_nunc. Suspendisse potenti. Proin tempor, sapien ut ornare placerat, sapien mauris luctus sapien, eget aliquam turpis urna at quam. Sed a&eros vel@ ante vestibulum vulputate. Suspendisse vitae vulputate velit. Suspendisse! ligula nisl, semper ut sodales et, ultricies porttitor felis. Nunc ac mattis erat, aliquet pretium risus. Null{-truncated-}'"
   ]
  },
  {
   "cell_type": "code",
   "execution_count": 11,
   "metadata": {},
   "outputs": [
    {
     "data": {
      "text/plain": [
       "'Lorem ipsum dolor sit amet, consectetur adipiscing elit. Aliquam sem odio, varius nec aliquam nec, tempor commodo ante. Pellentesque sit amet augue vel ante dictum placerat ut ut sapien. Proin maximus eu diam in posuere. Suspendisse in lectus in lectus finibus auctor. Nam sed porttitor arcu. Vestibulum augue odio, posuere quis libero sed, pharetra sollicitudin est. Donec sit amet nunc eu nisi malesuada elementum id ut purus.Nunc sit amet % massa rhoncus, venenatis eros sit amet, ornare augue. Nunc a mi sed est tincidunt facilisis at nec diam. Donec nec ex lorem. Morbi vitae diam tincidunt, dignissim arcu ut, facilisis nisi. Maecenas non felis #ullamcorper, viverra augue id, consequat_nunc. Suspendisse potenti. Proin tempor, sapien ut ornare placerat, sapien mauris luctus sapien, eget aliquam turpis urna at quam. Sed a&eros vel@ ante vestibulum vulputate. Suspendisse vitae vulputate velit. Suspendisse! ligula nisl, semper ut sodales et, ultricies porttitor felis. Nunc ac mattis erat, aliquet pretium risus. Null{-truncated-}'"
      ]
     },
     "execution_count": 11,
     "metadata": {},
     "output_type": "execute_result"
    }
   ],
   "source": [
    "para"
   ]
  },
  {
   "cell_type": "code",
   "execution_count": 4,
   "metadata": {},
   "outputs": [],
   "source": [
    "from collections import Counter"
   ]
  },
  {
   "cell_type": "code",
   "execution_count": 20,
   "metadata": {},
   "outputs": [],
   "source": [
    "c=Counter(l)"
   ]
  },
  {
   "cell_type": "code",
   "execution_count": 16,
   "metadata": {},
   "outputs": [],
   "source": [
    "for i in special1:\n",
    "    para=para.replace(i,\"\")\n",
    "    word1=para"
   ]
  },
  {
   "cell_type": "code",
   "execution_count": 15,
   "metadata": {},
   "outputs": [],
   "source": [
    "special1=',_!@*%#$.'"
   ]
  },
  {
   "cell_type": "code",
   "execution_count": 17,
   "metadata": {},
   "outputs": [
    {
     "data": {
      "text/plain": [
       "'Lorem ipsum dolor sit amet consectetur adipiscing elit Aliquam sem odio varius nec aliquam nec tempor commodo ante Pellentesque sit amet augue vel ante dictum placerat ut ut sapien Proin maximus eu diam in posuere Suspendisse in lectus in lectus finibus auctor Nam sed porttitor arcu Vestibulum augue odio posuere quis libero sed pharetra sollicitudin est Donec sit amet nunc eu nisi malesuada elementum id ut purusNunc sit amet  massa rhoncus venenatis eros sit amet ornare augue Nunc a mi sed est tincidunt facilisis at nec diam Donec nec ex lorem Morbi vitae diam tincidunt dignissim arcu ut facilisis nisi Maecenas non felis ullamcorper viverra augue id consequatnunc Suspendisse potenti Proin tempor sapien ut ornare placerat sapien mauris luctus sapien eget aliquam turpis urna at quam Sed a&eros vel ante vestibulum vulputate Suspendisse vitae vulputate velit Suspendisse ligula nisl semper ut sodales et ultricies porttitor felis Nunc ac mattis erat aliquet pretium risus Null{-truncated-}'"
      ]
     },
     "execution_count": 17,
     "metadata": {},
     "output_type": "execute_result"
    }
   ],
   "source": [
    "word1"
   ]
  },
  {
   "cell_type": "code",
   "execution_count": 60,
   "metadata": {},
   "outputs": [],
   "source": [
    "l=word1.split()"
   ]
  },
  {
   "cell_type": "code",
   "execution_count": 62,
   "metadata": {},
   "outputs": [],
   "source": [
    "c=Counter(l)"
   ]
  },
  {
   "cell_type": "code",
   "execution_count": 75,
   "metadata": {},
   "outputs": [],
   "source": [
    "f=c.most_common()[-5:]"
   ]
  },
  {
   "cell_type": "code",
   "execution_count": 91,
   "metadata": {},
   "outputs": [
    {
     "name": "stdout",
     "output_type": "stream",
     "text": [
      "turpis\n",
      "urna\n",
      "quam\n",
      "Sed\n",
      "a&eros\n",
      "vestibulum\n",
      "velit\n",
      "ligula\n",
      "nisl\n",
      "semper\n",
      "sodales\n",
      "et\n",
      "ultricies\n",
      "ac\n",
      "mattis\n",
      "erat\n",
      "aliquet\n",
      "pretium\n",
      "risus\n",
      "Null{-truncated-}\n"
     ]
    }
   ],
   "source": [
    "l=word1.split()\n",
    "c=Counter(l)\n",
    "mc=c.most_common()[-20:]\n",
    "fl=[]\n",
    "for i,j in mc:\n",
    "    fl.append(i)\n",
    "print(fl)        "
   ]
  },
  {
   "cell_type": "code",
   "execution_count": null,
   "metadata": {},
   "outputs": [],
   "source": [
    "from collections import Counter\n",
    "\n",
    "def stringmethod(para, special1, special2, list1, strfind):\n",
    "    # Write your code heredef stringmethod(para, special1, special2, list1, strfind):\n",
    "    # Write your code here\n",
    "    print(special1)\n",
    "    for i in special1:\n",
    "        para=para.replace(i,\"\")\n",
    "    word1=para    \n",
    "    var=[]\n",
    "    for i,j in enumerate(word1):\n",
    "        if i==70:\n",
    "            break\n",
    "        var.append(j)\n",
    "    word2=''.join(var)\n",
    "    v=[]\n",
    "    for i in word2.split():\n",
    "        v.append(i[::-1])\n",
    "    rword2=' '.join(v[::-1])\n",
    "    print(rword2)\n",
    "    \n",
    "    a=rword2.replace(\" \",\"\")\n",
    "    c=[]\n",
    "    for i in a:\n",
    "        c.append(i)\n",
    "        c.append(',')\n",
    "    c.pop()    \n",
    "    print(''.join(c))\n",
    "    count=0\n",
    "    for i in list1:\n",
    "        if i in para:\n",
    "            count+=1\n",
    "    if len(list1)==count:\n",
    "        print('Every thing in {} were present'.format(list1))\n",
    "    else:\n",
    "        print('Every thing in {} were not present'.format(list1))\n",
    "        \n",
    "    q=word1.split()\n",
    "    d=[]\n",
    "    for i,j in enumerate(q):\n",
    "        if i==20:\n",
    "            break\n",
    "        d.append(j)         \n",
    "    print(d)\n",
    "    \n",
    "    l=word1.split()\n",
    "    c=Counter(l)\n",
    "    mc=c.most_common()\n",
    "    fl=[]\n",
    "    for i,j in mc:\n",
    "        fl.append(i)\n",
    "    print(fl[-20:])        \n",
    "    \n",
    "    print(word1.rfind(strfind))"
   ]
  },
  {
   "cell_type": "code",
   "execution_count": 85,
   "metadata": {},
   "outputs": [
    {
     "data": {
      "text/plain": [
       "'risus'"
      ]
     },
     "execution_count": 85,
     "metadata": {},
     "output_type": "execute_result"
    }
   ],
   "source": [
    "f[3][0]"
   ]
  },
  {
   "cell_type": "code",
   "execution_count": 92,
   "metadata": {},
   "outputs": [],
   "source": [
    "import os"
   ]
  },
  {
   "cell_type": "code",
   "execution_count": 97,
   "metadata": {},
   "outputs": [
    {
     "ename": "NameError",
     "evalue": "name '__file__' is not defined",
     "output_type": "error",
     "traceback": [
      "\u001b[1;31m---------------------------------------------------------------------------\u001b[0m",
      "\u001b[1;31mNameError\u001b[0m                                 Traceback (most recent call last)",
      "\u001b[1;32m<ipython-input-97-358d5687b810>\u001b[0m in \u001b[0;36m<module>\u001b[1;34m\u001b[0m\n\u001b[1;32m----> 1\u001b[1;33m \u001b[0m__file__\u001b[0m\u001b[1;33m\u001b[0m\u001b[1;33m\u001b[0m\u001b[0m\n\u001b[0m",
      "\u001b[1;31mNameError\u001b[0m: name '__file__' is not defined"
     ]
    }
   ],
   "source": [
    "__file__"
   ]
  },
  {
   "cell_type": "code",
   "execution_count": null,
   "metadata": {},
   "outputs": [],
   "source": []
  }
 ],
 "metadata": {
  "kernelspec": {
   "display_name": "Python 3",
   "language": "python",
   "name": "python3"
  },
  "language_info": {
   "codemirror_mode": {
    "name": "ipython",
    "version": 3
   },
   "file_extension": ".py",
   "mimetype": "text/x-python",
   "name": "python",
   "nbconvert_exporter": "python",
   "pygments_lexer": "ipython3",
   "version": "3.8.5"
  }
 },
 "nbformat": 4,
 "nbformat_minor": 4
}
