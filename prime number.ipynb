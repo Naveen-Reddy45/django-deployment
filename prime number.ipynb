{
 "cells": [
  {
   "cell_type": "markdown",
   "metadata": {},
   "source": [
    "# checks whether number is prime or not"
   ]
  },
  {
   "cell_type": "code",
   "execution_count": 37,
   "metadata": {},
   "outputs": [
    {
     "name": "stdout",
     "output_type": "stream",
     "text": [
      "please enter the number : 13\n",
      "yes! 13 is a prime number\n"
     ]
    }
   ],
   "source": [
    "a=int(input('please enter the number : '))\n",
    "li=[]\n",
    "for i in range(1,a+1):\n",
    "    if a%i==0:\n",
    "        li.append(i)\n",
    "    else:\n",
    "        pass\n",
    "\n",
    "if len(li)==2:\n",
    "    print(f'yes! {a} is a prime number')\n",
    "else:\n",
    "    print(f'oops! {a} is not prime number')\n",
    "        "
   ]
  },
  {
   "cell_type": "markdown",
   "metadata": {},
   "source": [
    "# checks prime or not using function"
   ]
  },
  {
   "cell_type": "code",
   "execution_count": 40,
   "metadata": {},
   "outputs": [],
   "source": [
    "def check_prime(a):\n",
    "    return len([i for i in range(1,a+1) if a%i==0])==2"
   ]
  },
  {
   "cell_type": "code",
   "execution_count": 43,
   "metadata": {},
   "outputs": [
    {
     "data": {
      "text/plain": [
       "True"
      ]
     },
     "execution_count": 43,
     "metadata": {},
     "output_type": "execute_result"
    }
   ],
   "source": [
    "check_prime(2)"
   ]
  },
  {
   "cell_type": "markdown",
   "metadata": {},
   "source": [
    "# list the prime numbers within given range"
   ]
  },
  {
   "cell_type": "code",
   "execution_count": 2,
   "metadata": {},
   "outputs": [
    {
     "name": "stdout",
     "output_type": "stream",
     "text": [
      "enter the number : 21\n",
      "[2, 3, 5, 7, 11, 13, 17, 19]\n"
     ]
    }
   ],
   "source": [
    "a=int(input('enter the number : '))\n",
    "prime=[]\n",
    "for num in range(a+1):\n",
    "    if len([i for i in range(1,num+1) if num%i==0])==2:\n",
    "        prime.append(num)\n",
    "print(prime)"
   ]
  },
  {
   "cell_type": "code",
   "execution_count": null,
   "metadata": {},
   "outputs": [],
   "source": [
    "#!/bin/python3\n",
    "\n",
    "import math\n",
    "import os\n",
    "import random\n",
    "import re\n",
    "import sys\n",
    "\n",
    "\n",
    "#\n",
    "# Complete the 'primegenerator' function below.\n",
    "#\n",
    "# The function is expected to return an INTEGER.\n",
    "# The function accepts following parameters:\n",
    "#  1. INTEGER num\n",
    "#  2. INTEGER val\n",
    "#\n",
    "\n",
    "def primegenerator(num, val):\n",
    "    # Write your code here\n",
    "    prime=[]\n",
    "    for number in range(num+1):\n",
    "        if len([i for i in range(1,number+1) if number%i==0])==2:\n",
    "            prime.append(number)\n",
    "    if val==1:\n",
    "        for i in range(0,len(prime),2):\n",
    "            yield prime[i]\n",
    "        \n",
    "    else:\n",
    "        for i in range(1,len(prime),2):\n",
    "            yield prime[i]\n",
    "            \n",
    "if __name__ == '__main__':\n",
    "\n",
    "    num = int(input().strip())\n",
    "\n",
    "    val = int(input().strip())\n",
    "\n",
    "    for i in primegenerator(num, val):\n",
    "        print(i,end=\" \")"
   ]
  }
 ],
 "metadata": {
  "kernelspec": {
   "display_name": "Python 3",
   "language": "python",
   "name": "python3"
  },
  "language_info": {
   "codemirror_mode": {
    "name": "ipython",
    "version": 3
   },
   "file_extension": ".py",
   "mimetype": "text/x-python",
   "name": "python",
   "nbconvert_exporter": "python",
   "pygments_lexer": "ipython3",
   "version": "3.8.5"
  }
 },
 "nbformat": 4,
 "nbformat_minor": 4
}
