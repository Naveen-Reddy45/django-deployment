{
 "cells": [
  {
   "cell_type": "code",
   "execution_count": 25,
   "metadata": {},
   "outputs": [
    {
     "name": "stdout",
     "output_type": "stream",
     "text": [
      "enter a string:12tigertigerer\n",
      "TRUE 12\n"
     ]
    }
   ],
   "source": [
    "    s=input('enter a string:')\n",
    "    \n",
    "    mylist=[]\n",
    "    for x in s:\n",
    "        if not x.isdigit():\n",
    "            break\n",
    "        else:\n",
    "        #elif x.isdigit():\n",
    "            mylist.append(x)\n",
    "            \n",
    "    i=len(mylist)\n",
    "    c=int(''.join(mylist))\n",
    "    d=len(s[i::])\n",
    "\n",
    "    if c==d:\n",
    "        print(f'TRUE {d}')\n",
    "    else:\n",
    "        print(f'FALSE {d}')"
   ]
  },
  {
   "cell_type": "code",
   "execution_count": null,
   "metadata": {},
   "outputs": [],
   "source": []
  },
  {
   "cell_type": "code",
   "execution_count": null,
   "metadata": {},
   "outputs": [],
   "source": []
  }
 ],
 "metadata": {
  "kernelspec": {
   "display_name": "Python 3",
   "language": "python",
   "name": "python3"
  },
  "language_info": {
   "codemirror_mode": {
    "name": "ipython",
    "version": 3
   },
   "file_extension": ".py",
   "mimetype": "text/x-python",
   "name": "python",
   "nbconvert_exporter": "python",
   "pygments_lexer": "ipython3",
   "version": "3.8.5"
  }
 },
 "nbformat": 4,
 "nbformat_minor": 4
}
