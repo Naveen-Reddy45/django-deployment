{
 "cells": [
  {
   "cell_type": "code",
   "execution_count": 29,
   "metadata": {},
   "outputs": [
    {
     "name": "stdout",
     "output_type": "stream",
     "text": [
      "9\n"
     ]
    }
   ],
   "source": [
    "N = int(input())"
   ]
  },
  {
   "cell_type": "code",
   "execution_count": 30,
   "metadata": {},
   "outputs": [
    {
     "name": "stdout",
     "output_type": "stream",
     "text": [
      "append 5\n",
      "insert 2 4\n",
      "insert 0 9\n",
      "print\n",
      "sort\n",
      "remove 5\n",
      "append 3\n",
      "pop\n",
      "print\n"
     ]
    }
   ],
   "source": [
    "commands=[]\n",
    "for i in range(N):\n",
    "    commands.append(input()) "
   ]
  },
  {
   "cell_type": "code",
   "execution_count": 25,
   "metadata": {},
   "outputs": [
    {
     "data": {
      "text/plain": [
       "['remove 6', 'append 8']"
      ]
     },
     "execution_count": 25,
     "metadata": {},
     "output_type": "execute_result"
    }
   ],
   "source": [
    "commands"
   ]
  },
  {
   "cell_type": "code",
   "execution_count": 31,
   "metadata": {},
   "outputs": [
    {
     "name": "stdout",
     "output_type": "stream",
     "text": [
      "[9, 5, 4]\n",
      "[4, 9]\n"
     ]
    }
   ],
   "source": [
    "li=[]\n",
    "for func in commands:\n",
    "    if 'remove' in func:\n",
    "        item=func.split()\n",
    "        num=int(item[1])\n",
    "        li.remove(num)\n",
    "    elif 'append' in func:\n",
    "        item=func.split()\n",
    "        num=int(item[1])\n",
    "        li.append(num)\n",
    "    elif 'insert' in func:\n",
    "        item=func.split()\n",
    "        num1,num2=int(item[1]),int(item[2])\n",
    "        li.insert(num1,num2)\n",
    "    elif func=='sort':\n",
    "        li.sort()\n",
    "    elif func=='print':\n",
    "        print(li)\n",
    "    elif func=='pop':\n",
    "        li.pop()\n",
    "    else:\n",
    "        li.reverse()"
   ]
  },
  {
   "cell_type": "code",
   "execution_count": null,
   "metadata": {},
   "outputs": [],
   "source": []
  }
 ],
 "metadata": {
  "kernelspec": {
   "display_name": "Python 3",
   "language": "python",
   "name": "python3"
  },
  "language_info": {
   "codemirror_mode": {
    "name": "ipython",
    "version": 3
   },
   "file_extension": ".py",
   "mimetype": "text/x-python",
   "name": "python",
   "nbconvert_exporter": "python",
   "pygments_lexer": "ipython3",
   "version": "3.8.5"
  }
 },
 "nbformat": 4,
 "nbformat_minor": 4
}
