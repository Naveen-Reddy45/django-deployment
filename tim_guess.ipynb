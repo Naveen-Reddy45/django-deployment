{
 "cells": [
  {
   "cell_type": "code",
   "execution_count": 9,
   "metadata": {},
   "outputs": [],
   "source": [
    "import random"
   ]
  },
  {
   "cell_type": "code",
   "execution_count": 20,
   "metadata": {},
   "outputs": [
    {
     "name": "stdout",
     "output_type": "stream",
     "text": [
      "5\n",
      "please guess a number between 1 and 10:  5\n",
      "well,done! u guessed correctly at first time\n"
     ]
    }
   ],
   "source": [
    "answer=random.randint(1,10)\n",
    "print(answer)\n",
    "guess=0\n",
    "x=0\n",
    "while guess!=answer:\n",
    "    guess=int(input(\"please guess a number between 1 and 10:  \"))\n",
    "    x+=1\n",
    "    if guess==answer:\n",
    "        if x==1:\n",
    "            print(\"well,done! u guessed correctly at first time\")\n",
    "            break\n",
    "        else:\n",
    "            #print(\"u guessed correctly\")\n",
    "            print(f\"u guessed correctly in {x} attempts\")\n",
    "            break\n",
    "    elif guess==0:\n",
    "        break\n",
    "    else:\n",
    "        if guess>answer:\n",
    "            print('please guess lower')\n",
    "        else:#guess<answer\n",
    "            print(\"please guess higher\")\n"
   ]
  },
  {
   "cell_type": "code",
   "execution_count": null,
   "metadata": {},
   "outputs": [],
   "source": []
  }
 ],
 "metadata": {
  "kernelspec": {
   "display_name": "Python 3",
   "language": "python",
   "name": "python3"
  },
  "language_info": {
   "codemirror_mode": {
    "name": "ipython",
    "version": 3
   },
   "file_extension": ".py",
   "mimetype": "text/x-python",
   "name": "python",
   "nbconvert_exporter": "python",
   "pygments_lexer": "ipython3",
   "version": "3.8.5"
  }
 },
 "nbformat": 4,
 "nbformat_minor": 4
}
