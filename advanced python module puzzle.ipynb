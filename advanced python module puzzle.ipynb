{
 "cells": [
  {
   "cell_type": "code",
   "execution_count": 21,
   "metadata": {},
   "outputs": [
    {
     "name": "stdout",
     "output_type": "stream",
     "text": [
      "['7192662837']\n",
      "0.04188370704650879\n"
     ]
    }
   ],
   "source": [
    "import re\n",
    "import os\n",
    "import time\n",
    "start=time.time()\n",
    "lst=[]\n",
    "file_path='C:\\\\Users\\\\admin\\\\Desktop\\\\final'\n",
    "for folder,sub_fol,files in os.walk(file_path):\n",
    "    for f in files:\n",
    "        file_name=os.path.join(folder,f)\n",
    "        with open(file_name,'r') as f1:\n",
    "            pattern=r'\\d{3}-\\d{3}-\\d{4}'  \n",
    "            text=f1.read()\n",
    "            output=re.search(pattern,text)\n",
    "            if output!=None:\n",
    "                lst.append(''.join(output.group().split('-')))\n",
    "                d=(file_name)\n",
    "print(lst)\n",
    "end=time.time()\n",
    "print(end-start)"
   ]
  },
  {
   "cell_type": "code",
   "execution_count": 15,
   "metadata": {},
   "outputs": [],
   "source": [
    "import time"
   ]
  },
  {
   "cell_type": "code",
   "execution_count": 17,
   "metadata": {},
   "outputs": [
    {
     "data": {
      "text/plain": [
       "1624878416.7883108"
      ]
     },
     "execution_count": 17,
     "metadata": {},
     "output_type": "execute_result"
    }
   ],
   "source": [
    "start=time.time()\n",
    "end=time.time()\n",
    "elapsed=end-start"
   ]
  },
  {
   "cell_type": "code",
   "execution_count": null,
   "metadata": {},
   "outputs": [],
   "source": []
  },
  {
   "cell_type": "code",
   "execution_count": null,
   "metadata": {},
   "outputs": [],
   "source": []
  }
 ],
 "metadata": {
  "kernelspec": {
   "display_name": "Python 3",
   "language": "python",
   "name": "python3"
  }
 },
 "nbformat": 4,
 "nbformat_minor": 4
}
