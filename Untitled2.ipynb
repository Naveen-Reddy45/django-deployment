{
 "cells": [
  {
   "cell_type": "code",
   "execution_count": 314,
   "metadata": {},
   "outputs": [
    {
     "name": "stdout",
     "output_type": "stream",
     "text": [
      "2\n",
      "4 5 2 8 4\n"
     ]
    }
   ],
   "source": [
    "n = int(input())\n",
    "s = set(map(int, input().split()))"
   ]
  },
  {
   "cell_type": "code",
   "execution_count": 315,
   "metadata": {},
   "outputs": [
    {
     "data": {
      "text/plain": [
       "{2, 4, 5, 8}"
      ]
     },
     "execution_count": 315,
     "metadata": {},
     "output_type": "execute_result"
    }
   ],
   "source": [
    "s"
   ]
  },
  {
   "cell_type": "code",
   "execution_count": 326,
   "metadata": {},
   "outputs": [
    {
     "name": "stdout",
     "output_type": "stream",
     "text": [
      "hack 2\n",
      "a\n",
      "c\n",
      "h\n",
      "k\n",
      "ac\n",
      "ah\n",
      "ak\n",
      "ch\n",
      "ck\n",
      "hk\n"
     ]
    }
   ],
   "source": [
    "# Enter your code here. Read input from STDIN. Print output to STDOUT\n",
    "# Enter your code here. Read input from STDIN. Print output to STDOUT\n",
    "from itertools import combinations\n",
    "s=input().split()\n",
    "string=''.join(sorted(s[0]))\n",
    "num=int(s[1])\n",
    "a=list(combinations(string,num))\n",
    "for i in string:\n",
    "    print(i)\n",
    "for i,j in enumerate(a):\n",
    "    print(''.join(a[i]))"
   ]
  },
  {
   "cell_type": "markdown",
   "metadata": {},
   "source": [
    "'naveen reddy'.split()"
   ]
  },
  {
   "cell_type": "code",
   "execution_count": 331,
   "metadata": {},
   "outputs": [
    {
     "name": "stdout",
     "output_type": "stream",
     "text": [
      "3 100\n"
     ]
    }
   ],
   "source": [
    "m,n=map(int,input().split())"
   ]
  },
  {
   "cell_type": "code",
   "execution_count": 335,
   "metadata": {},
   "outputs": [
    {
     "name": "stdout",
     "output_type": "stream",
     "text": [
      "3 100\n",
      "2 4 5 \n",
      "3 4 8 6 9\n",
      "10 8 12 4\n",
      "26\n"
     ]
    }
   ],
   "source": [
    "m,n=map(int,input().split())\n",
    "total=0\n",
    "for i in range(m):\n",
    "    c=max(map(int,input().split()))\n",
    "    c**c\n",
    "    total=total+c\n",
    "print(total%n)"
   ]
  },
  {
   "cell_type": "code",
   "execution_count": 336,
   "metadata": {},
   "outputs": [],
   "source": [
    "def is_vowel(letter):\n",
    "    return letter in ['a', 'e', 'i', 'o', 'u', 'y']\n",
    "\n",
    "def score_words(words):\n",
    "    score = 0\n",
    "    for word in words:\n",
    "        num_vowels = 0\n",
    "        for letter in word:\n",
    "            if is_vowel(letter):\n",
    "                num_vowels += 1\n",
    "        if num_vowels % 2 == 0:\n",
    "            score += 2\n",
    "        else:\n",
    "            ++score\n",
    "    return score"
   ]
  },
  {
   "cell_type": "code",
   "execution_count": 337,
   "metadata": {},
   "outputs": [
    {
     "data": {
      "text/plain": [
       "22"
      ]
     },
     "execution_count": 337,
     "metadata": {},
     "output_type": "execute_result"
    }
   ],
   "source": [
    "score_words('scoring is awesome')"
   ]
  },
  {
   "cell_type": "code",
   "execution_count": null,
   "metadata": {},
   "outputs": [],
   "source": []
  }
 ],
 "metadata": {
  "kernelspec": {
   "display_name": "Python 3",
   "language": "python",
   "name": "python3"
  },
  "language_info": {
   "codemirror_mode": {
    "name": "ipython",
    "version": 3
   },
   "file_extension": ".py",
   "mimetype": "text/x-python",
   "name": "python",
   "nbconvert_exporter": "python",
   "pygments_lexer": "ipython3",
   "version": "3.8.5"
  }
 },
 "nbformat": 4,
 "nbformat_minor": 4
}
