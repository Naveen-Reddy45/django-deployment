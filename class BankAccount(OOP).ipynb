{
 "cells": [
  {
   "cell_type": "code",
   "execution_count": 1,
   "metadata": {},
   "outputs": [],
   "source": [
    "class Account:\n",
    "    def __init__(self,owner,balance):\n",
    "        self.owner=owner\n",
    "        self.balance=balance\n",
    "    \n",
    "    def withdraw(self,withdraw):\n",
    "        self.withdraw=withdraw\n",
    "        \n",
    "        if self.withdraw <= self.balance:\n",
    "            self.balance=self.balance-self.withdraw\n",
    "            print('withdrawal Accepted')\n",
    "        else:\n",
    "            print('Funds unavailable!')\n",
    "        \n",
    "    \n",
    "    def deposit(self,deposit):\n",
    "        self.balance=self.balance+deposit\n",
    "        return ('Deposit Accepted')\n",
    "    \n",
    "    \n",
    "    def __str__(self):\n",
    "        return(f'Account owner:{self.owner}\\nAccount balance:{self.balance}')"
   ]
  },
  {
   "cell_type": "code",
   "execution_count": 15,
   "metadata": {},
   "outputs": [],
   "source": [
    "aact1=Account('jose',400)"
   ]
  },
  {
   "cell_type": "code",
   "execution_count": 3,
   "metadata": {},
   "outputs": [
    {
     "name": "stdout",
     "output_type": "stream",
     "text": [
      "Funds unavailable!\n"
     ]
    }
   ],
   "source": [
    "aact1.withdraw(600)"
   ]
  },
  {
   "cell_type": "code",
   "execution_count": 4,
   "metadata": {},
   "outputs": [
    {
     "data": {
      "text/plain": [
       "'Deposit Accepted'"
      ]
     },
     "execution_count": 4,
     "metadata": {},
     "output_type": "execute_result"
    }
   ],
   "source": [
    "aact1.deposit(824)"
   ]
  },
  {
   "cell_type": "code",
   "execution_count": 17,
   "metadata": {},
   "outputs": [
    {
     "name": "stdout",
     "output_type": "stream",
     "text": [
      "Account owner:jose\n",
      "Account balance:400\n"
     ]
    }
   ],
   "source": [
    "print(aact1)"
   ]
  },
  {
   "cell_type": "code",
   "execution_count": 25,
   "metadata": {},
   "outputs": [
    {
     "name": "stdout",
     "output_type": "stream",
     "text": [
      "Account owner:jose\n",
      "Account balance:400\n"
     ]
    }
   ],
   "source": [
    "print(aact1)"
   ]
  },
  {
   "cell_type": "code",
   "execution_count": null,
   "metadata": {},
   "outputs": [],
   "source": []
  }
 ],
 "metadata": {
  "kernelspec": {
   "display_name": "Python 3",
   "language": "python",
   "name": "python3"
  },
  "language_info": {
   "codemirror_mode": {
    "name": "ipython",
    "version": 3
   },
   "file_extension": ".py",
   "mimetype": "text/x-python",
   "name": "python",
   "nbconvert_exporter": "python",
   "pygments_lexer": "ipython3",
   "version": "3.8.5"
  }
 },
 "nbformat": 4,
 "nbformat_minor": 4
}
