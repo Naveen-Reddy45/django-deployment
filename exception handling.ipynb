{
 "cells": [
  {
   "cell_type": "code",
   "execution_count": 2,
   "metadata": {},
   "outputs": [],
   "source": [
    "def ask_for_int():\n",
    "    while True:\n",
    "        try:\n",
    "            result=int(input('please provide a number!'))\n",
    "        except:\n",
    "            print('this is not a number')\n",
    "        else:\n",
    "            print('u entered a number')\n",
    "            break\n",
    "        finally:\n",
    "            print(\"i will run\")"
   ]
  },
  {
   "cell_type": "code",
   "execution_count": 1,
   "metadata": {},
   "outputs": [
    {
     "name": "stdout",
     "output_type": "stream",
     "text": [
      "this is a TypeError\n"
     ]
    }
   ],
   "source": [
    "try:\n",
    "    for i in ['a','b','c']:\n",
    "        print(i**i)    \n",
    "except:\n",
    "    print('this is a TypeError')"
   ]
  },
  {
   "cell_type": "code",
   "execution_count": 25,
   "metadata": {},
   "outputs": [
    {
     "name": "stdout",
     "output_type": "stream",
     "text": [
      "divided by zero is not possible\n",
      "these are divisions\n"
     ]
    }
   ],
   "source": [
    "x=5\n",
    "y=0\n",
    "try:\n",
    "    z=x/y\n",
    "    print(z)\n",
    "except ZeroDivisionError:\n",
    "    print('divided by zero is not possible')\n",
    "finally:\n",
    "    print('these are divisions')"
   ]
  },
  {
   "cell_type": "code",
   "execution_count": 4,
   "metadata": {},
   "outputs": [],
   "source": [
    "def ask():\n",
    "    while True:\n",
    "        try:\n",
    "            result=int(input('Input an integer:'))\n",
    "            a=result**2\n",
    "        except:\n",
    "            print('An error occured!please try again!')\n",
    "            continue\n",
    "        else:\n",
    "            break\n",
    "\n",
    "    print(f'Thank you,your number squared is:{a}')\n",
    "        "
   ]
  },
  {
   "cell_type": "code",
   "execution_count": 5,
   "metadata": {},
   "outputs": [
    {
     "name": "stdout",
     "output_type": "stream",
     "text": [
      "Input an integer:y\n",
      "An error occured!please try again!\n",
      "Input an integer:5\n",
      "Thank you,your number squared is:25\n"
     ]
    }
   ],
   "source": [
    "ask()"
   ]
  },
  {
   "cell_type": "code",
   "execution_count": 6,
   "metadata": {},
   "outputs": [
    {
     "name": "stdout",
     "output_type": "stream",
     "text": [
      "please provide a number!6\n",
      "u entered a number\n",
      "i will run\n"
     ]
    }
   ],
   "source": [
    "ask_for_int()"
   ]
  },
  {
   "cell_type": "code",
   "execution_count": null,
   "metadata": {},
   "outputs": [],
   "source": []
  },
  {
   "cell_type": "code",
   "execution_count": null,
   "metadata": {},
   "outputs": [],
   "source": []
  }
 ],
 "metadata": {
  "kernelspec": {
   "display_name": "Python 3",
   "language": "python",
   "name": "python3"
  },
  "language_info": {
   "codemirror_mode": {
    "name": "ipython",
    "version": 3
   },
   "file_extension": ".py",
   "mimetype": "text/x-python",
   "name": "python",
   "nbconvert_exporter": "python",
   "pygments_lexer": "ipython3",
   "version": "3.8.5"
  }
 },
 "nbformat": 4,
 "nbformat_minor": 4
}
