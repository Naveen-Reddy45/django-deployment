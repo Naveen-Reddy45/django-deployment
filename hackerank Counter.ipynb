{
 "cells": [
  {
   "cell_type": "code",
   "execution_count": null,
   "metadata": {},
   "outputs": [],
   "source": [
    "# Enter your code here. Read input from STDIN. Print output to STDOUT\n",
    "from collections import Counter\n",
    "n=int(input())\n",
    "a=input().split()\n",
    "a=list(map(int,a))\n",
    "size=Counter(a)\n",
    "cust=int(input())\n",
    "\n",
    "cu=[]\n",
    "for i in range(cust):\n",
    "    n=input().split()\n",
    "    n=tuple(map(int,n))\n",
    "    cu.append(n)\n",
    "\n",
    "n=0\n",
    "for i,j in cu:\n",
    "    if size[i]>0:\n",
    "        n+=j\n",
    "        a.remove(i)\n",
    "        size=Counter(a)\n",
    "    else:\n",
    "        n+=0\n",
    "        \n",
    "print(n)\n"
   ]
  }
 ],
 "metadata": {
  "kernelspec": {
   "display_name": "Python 3",
   "language": "python",
   "name": "python3"
  },
  "language_info": {
   "codemirror_mode": {
    "name": "ipython",
    "version": 3
   },
   "file_extension": ".py",
   "mimetype": "text/x-python",
   "name": "python",
   "nbconvert_exporter": "python",
   "pygments_lexer": "ipython3",
   "version": "3.8.5"
  }
 },
 "nbformat": 4,
 "nbformat_minor": 4
}
